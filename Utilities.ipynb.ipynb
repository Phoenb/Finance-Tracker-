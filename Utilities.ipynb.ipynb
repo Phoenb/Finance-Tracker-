{
 "cells": [
  {
   "cell_type": "code",
   "execution_count": 13,
   "id": "e3064b8a",
   "metadata": {},
   "outputs": [],
   "source": [
    "import csv\n",
    "from datetime import datetime\n"
   ]
  },
  {
   "cell_type": "code",
   "execution_count": 14,
   "id": "db375426",
   "metadata": {},
   "outputs": [],
   "source": [
    "# Transaction details in dictionary format\n",
    "transaction_counter = 0\n",
    "\n",
    "def process_transaction(transaction):\n",
    "    global transaction_counter\n",
    "    transaction_counter += 1\n",
    "    transaction['transaction_id'] = transaction_counter\n",
    "    return transaction\n",
    "\n",
    "    \n"
   ]
  },
  {
   "cell_type": "code",
   "execution_count": 15,
   "id": "e67ae3e9",
   "metadata": {},
   "outputs": [],
   "source": [
    "def load_transactions(file_path):\n",
    "    transactions = []\n",
    "    global transaction_counter\n",
    "    transaction_counter = 0\n",
    "    \n",
    "    try:\n",
    "        with open(file_path, mode='r',) as file:\n",
    "            reader = csv.DictReader(file)\n",
    "            next(reader)  # Skip header row\n",
    "            for row in reader:\n",
    "                try:\n",
    "                    date = datetime.strptime(row['date'], '%Y-%m-%d')\n",
    "                    row['date'] = date.strftime('%Y-%m-%d')\n",
    "                    amount = float(row['amount'])\n",
    "                    row['amount'] = amount\n",
    "                    transactiontype = row['transaction_type'].lower()\n",
    "                    if transactiontype not in ['credit', 'debit']:\n",
    "                        raise ValueError(f\"Invalid transaction type: {transactiontype}\")\n",
    "                    row['transaction_type'] = transactiontype\n",
    "                    transaction = {\n",
    "                        'date': row['date'],\n",
    "                        'amount': row['amount'],\n",
    "                        'transaction_type': row['transaction_type'],\n",
    "                        'description': row.get('description', ''),\n",
    "                        'transaction_id': None\n",
    "                    }\n",
    "                    transactions.append(process_transaction(row))\n",
    "                except Exception as e:\n",
    "                    print(f\"Error processing row: {row}. Error: {e}\")\n",
    "    except Exception as e:\n",
    "        print(f\"Error opening file: {file_path}. Error: {e}\")"
   ]
  },
  {
   "cell_type": "code",
   "execution_count": 22,
   "id": "79b64a54",
   "metadata": {},
   "outputs": [],
   "source": [
    "def add_transaction(transactions, transaction):\n",
    "    try:\n",
    "        date = datetime.strptime(transaction['date'], '%Y-%m-%d')\n",
    "        transaction['date'] = date.strftime('%Y-%m-%d')\n",
    "        transactions.append(process_transaction(transaction))\n",
    "    except Exception as e:\n",
    "        print(f\"Error adding transaction: {transaction}. Error: {e}\")\n"
   ]
  },
  {
   "cell_type": "code",
   "execution_count": null,
   "id": "a77f96ec",
   "metadata": {},
   "outputs": [],
   "source": [
    "def update_transaction(transactions, transaction_id, updated_transaction):\n",
    "    for transaction in transactions:\n",
    "        if transaction['transaction_id'] == transaction_id:\n",
    "            try:\n",
    "                date = datetime.strptime(updated_transaction['date'], '%Y-%m-%d')\n",
    "                updated_transaction['date'] = date.strftime('%Y-%m-%d')\n",
    "                transaction.update(updated_transaction)\n",
    "                return\n",
    "            except Exception as e:\n",
    "                print(f\"Error updating transaction ID {transaction_id}: {e}\")\n",
    "    print(f\"Transaction ID {transaction_id} not found.\")"
   ]
  },
  {
   "cell_type": "code",
   "execution_count": null,
   "id": "9a1e793e",
   "metadata": {},
   "outputs": [],
   "source": [
    "def delete_transaction(transactions, transaction_id):\n",
    "    global transaction_counter\n",
    "    for i, transaction in enumerate(transactions):\n",
    "        if transaction['transaction_id'] == transaction_id:\n",
    "            del transactions[i]\n",
    "            transaction_counter -= 1\n",
    "            return\n",
    "    print(f\"Transaction ID {transaction_id} not found.\")\n"
   ]
  },
  {
   "cell_type": "code",
   "execution_count": null,
   "id": "2c70e9f8",
   "metadata": {},
   "outputs": [],
   "source": [
    "def analyze_transactions(transactions):\n",
    "    total_credit = sum(t['amount'] for t in transactions if t['transaction_type'] == 'credit')\n",
    "    total_debit = sum(t['amount'] for t in transactions if t['transaction_type'] == 'debit')\n",
    "    balance = total_credit - total_debit\n",
    "    return {\n",
    "        'total_credit': total_credit,\n",
    "        'total_debit': total_debit,\n",
    "        'balance': balance\n",
    "    }\n"
   ]
  },
  {
   "cell_type": "code",
   "execution_count": null,
   "id": "f023a4e3",
   "metadata": {},
   "outputs": [],
   "source": [
    "def save_transactions(transactions, file_path):\n",
    "    try:\n",
    "        with open(file_path, mode='w', newline='') as file:\n",
    "            fieldnames = ['transaction_id', 'date', 'amount', 'transaction_type', 'description']\n",
    "            writer = csv.DictWriter(file, fieldnames=fieldnames)\n",
    "            writer.writeheader()\n",
    "            for transaction in transactions:\n",
    "                writer.writerow(transaction)\n",
    "    except Exception as e:\n",
    "        print(f\"Error saving transactions to file: {file_path}. Error: {e}\")"
   ]
  },
  {
   "cell_type": "code",
   "execution_count": null,
   "id": "d53276ed",
   "metadata": {},
   "outputs": [],
   "source": [
    "def generate_report(transactions):\n",
    "    report = analyze_transactions(transactions)\n",
    "    print(\"Transaction Report:\")\n",
    "    print(f\"Total Credit: {report['total_credit']}\")\n",
    "    print(f\"Total Debit: {report['total_debit']}\")\n",
    "    print(f\"Balance: {report['balance']}\")\n",
    "    return report"
   ]
  }
 ],
 "metadata": {
  "kernelspec": {
   "display_name": ".venv",
   "language": "python",
   "name": "python3"
  },
  "language_info": {
   "codemirror_mode": {
    "name": "ipython",
    "version": 3
   },
   "file_extension": ".py",
   "mimetype": "text/x-python",
   "name": "python",
   "nbconvert_exporter": "python",
   "pygments_lexer": "ipython3",
   "version": "3.13.2"
  }
 },
 "nbformat": 4,
 "nbformat_minor": 5
}
