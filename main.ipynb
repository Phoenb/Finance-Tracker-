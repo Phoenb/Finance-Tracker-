{
 "cells": [
  {
   "cell_type": "code",
   "execution_count": 25,
   "id": "5d702b48",
   "metadata": {},
   "outputs": [],
   "source": [
    "import csv\n",
    "from datetime import datetime"
   ]
  },
  {
   "cell_type": "code",
   "execution_count": 37,
   "id": "6ff23647",
   "metadata": {},
   "outputs": [],
   "source": [
    "def main():\n",
    "    transactions = []\n",
    "    while True:\n",
    "        print(\"\\nSmart Personal Finance Analyzer\")\n",
    "        print(\"1. Load Transactions\")\n",
    "        print(\"2. Add Transaction\")\n",
    "        print(\"3. View Transactions\")\n",
    "        print(\"4. Update Transaction\")\n",
    "        print(\"5. Delete Transaction\")\n",
    "        print(\"6. Analyze Finances\")\n",
    "        print(\"7. Save Transactions\")\n",
    "        print(\"8. Generate Report\")\n",
    "        print(\"9. Exit\")\n",
    "        choice = input(\"Select an option: \")\n",
    "        if choice == '1':\n",
    "            transactions = load_transactions()\n",
    "            if transactions:\n",
    "                print(f\"Loaded {len(transactions)} transactions.\")\n",
    "            else:\n",
    "                print(\"No transactions loaded or file not found.\")\n",
    "        elif choice == '2':\n",
    "            try:\n",
    "                print(\"Adding a new transaction...\")\n",
    "                add_transaction(transactions)\n",
    "            except ValueError as e:\n",
    "                print(f\"Error adding transaction: {e}\")\n",
    "            except Exception as e:\n",
    "                print(f\"An unexpected error occurred: {e}\")\n",
    "        elif choice == '3':\n",
    "            view_transactions(transactions)         \n",
    "        elif choice == '4':\n",
    "            transactions= update_transactions(transactions)\n",
    "        elif choice == '5':\n",
    "            transactions = delete_transactions(transactions)\n",
    "        elif choice == '6':\n",
    "            analyze_finances(transactions)\n",
    "        elif choice == '7':\n",
    "            save_transactions(transactions, 'financial_transactions.csv')\n",
    "        elif choice == '8':\n",
    "            generate_report(transactions)\n",
    "        elif choice == '9':\n",
    "            print(\"Exiting the program.\")\n",
    "            break\n",
    "        else:\n",
    "            print(\"Invalid choice. Please try again.\")\n"
   ]
  }
 ],
 "metadata": {
  "kernelspec": {
   "display_name": ".venv",
   "language": "python",
   "name": "python3"
  },
  "language_info": {
   "codemirror_mode": {
    "name": "ipython",
    "version": 3
   },
   "file_extension": ".py",
   "mimetype": "text/x-python",
   "name": "python",
   "nbconvert_exporter": "python",
   "pygments_lexer": "ipython3",
   "version": "3.13.2"
  }
 },
 "nbformat": 4,
 "nbformat_minor": 5
}
